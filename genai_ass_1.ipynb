{
  "nbformat": 4,
  "nbformat_minor": 0,
  "metadata": {
    "colab": {
      "provenance": [],
      "authorship_tag": "ABX9TyOmb/zzVNUHDmv1e38nF4Ac",
      "include_colab_link": true
    },
    "kernelspec": {
      "name": "python3",
      "display_name": "Python 3"
    },
    "language_info": {
      "name": "python"
    }
  },
  "cells": [
    {
      "cell_type": "markdown",
      "metadata": {
        "id": "view-in-github",
        "colab_type": "text"
      },
      "source": [
        "<a href=\"https://colab.research.google.com/github/Nalubolasaikoushik/genai-ass-25/blob/main/genai_ass_1.ipynb\" target=\"_parent\"><img src=\"https://colab.research.google.com/assets/colab-badge.svg\" alt=\"Open In Colab\"/></a>"
      ]
    },
    {
      "cell_type": "code",
      "source": [
        "Y_actual_1 = [20, 30, 40, 50, 60]\n",
        "Y_pred_1 = [20.5, 30.3, 40.2, 50.6, 60.7]\n",
        "\n",
        "mae = sum(abs(a - p) for a, p in zip(Y_actual_1, Y_pred_1)) / len(Y_actual_1)\n",
        "mse = sum((a - p) ** 2 for a, p in zip(Y_actual_1, Y_pred_1)) / len(Y_actual_1)\n",
        "rmse = mse ** 0.5\n",
        "mape = sum(abs((a - p) / a) for a, p in zip(Y_actual_1, Y_pred_1)) * 100 / len(Y_actual_1)\n",
        "mean_y_actual = sum(Y_actual_1) / len(Y_actual_1)\n",
        "r_squared = 1 - (sum((a - p) ** 2 for a, p in zip(Y_actual_1, Y_pred_1)) / sum((a - mean_y_actual) ** 2 for a in Y_actual_1))\n",
        "\n",
        "print(\"Mean Absolute Error (MAE):\", mae)\n",
        "print(\"Mean Squared Error (MSE):\", mse)\n",
        "print(\"Root Mean Squared Error (RMSE):\", rmse)\n",
        "print(\"Mean Absolute Percentage Error (MAPE):\", mape)\n",
        "print(\"R-Squared Value (R^2):\", r_squared)\n",
        "\n",
        "Y_actual_2 = [0, 0, 0, 0, 0, 1, 1, 1, 2, 2, 2, 2, 0, 0, 0]\n",
        "Y_pred_2 = [0, 1, 1, 2, 0, 0, 1, 2, 2, 2, 0, 2, 1, 2, 2]\n",
        "\n",
        "correct = sum(a == p for a, p in zip(Y_actual_2, Y_pred_2))\n",
        "accuracy = correct / len(Y_actual_2)\n",
        "\n",
        "from collections import Counter\n",
        "classes = set(Y_actual_2)\n",
        "precision_recall_f1 = {}\n",
        "for cls in classes:\n",
        "    true_positive = sum((a == cls and p == cls) for a, p in zip(Y_actual_2, Y_pred_2))\n",
        "    false_positive = sum((a != cls and p == cls) for a, p in zip(Y_actual_2, Y_pred_2))\n",
        "    false_negative = sum((a == cls and p != cls) for a, p in zip(Y_actual_2, Y_pred_2))\n",
        "    precision = true_positive / (true_positive + false_positive) if true_positive + false_positive > 0 else 0\n",
        "    recall = true_positive / (true_positive + false_negative) if true_positive + false_negative > 0 else 0\n",
        "    f1_score = (2 * precision * recall) / (precision + recall) if precision + recall > 0 else 0\n",
        "    precision_recall_f1[cls] = (precision, recall, f1_score)\n",
        "\n",
        "print(\"Accuracy:\", accuracy)\n",
        "for cls, metrics in precision_recall_f1.items():\n",
        "    print(f\"Class {cls}: Precision={metrics[0]}, Recall={metrics[1]}, F1-Score={metrics[2]}\")\n"
      ],
      "metadata": {
        "colab": {
          "base_uri": "https://localhost:8080/"
        },
        "id": "MWbewXdApPMf",
        "outputId": "3b43a133-bf07-407f-c9dc-d32085168691"
      },
      "execution_count": null,
      "outputs": [
        {
          "output_type": "stream",
          "name": "stdout",
          "text": [
            "Mean Absolute Error (MAE): 0.4600000000000016\n",
            "Mean Squared Error (MSE): 0.24600000000000147\n",
            "Root Mean Squared Error (RMSE): 0.49598387070549127\n",
            "Mean Absolute Percentage Error (MAPE): 1.2733333333333368\n",
            "R-Squared Value (R^2): 0.99877\n",
            "Accuracy: 0.4\n",
            "Class 0: Precision=0.5, Recall=0.25, F1-Score=0.3333333333333333\n",
            "Class 1: Precision=0.25, Recall=0.3333333333333333, F1-Score=0.28571428571428575\n",
            "Class 2: Precision=0.42857142857142855, Recall=0.75, F1-Score=0.5454545454545454\n"
          ]
        }
      ]
    }
  ]
}